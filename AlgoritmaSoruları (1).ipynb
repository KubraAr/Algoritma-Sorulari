{
 "cells": [
  {
   "cell_type": "code",
   "execution_count": 2,
   "id": "ed6a889e-0d75-4278-9471-0788e2bb88aa",
   "metadata": {},
   "outputs": [
    {
     "name": "stdin",
     "output_type": "stream",
     "text": [
      "Birinci sayiyi girin:  4\n",
      "İkinci sayiyi girin:  6\n"
     ]
    },
    {
     "name": "stdout",
     "output_type": "stream",
     "text": [
      "İki tam sayinin toplami: 10\n"
     ]
    }
   ],
   "source": [
    "# Soru 1: Sayıların Toplamı\n",
    "\n",
    "sayi1 = int(input(\"Birinci sayiyi girin: \"))\n",
    "sayi2 = int(input(\"İkinci sayiyi girin: \"))\n",
    "\n",
    "toplam = sayi1 + sayi2\n",
    "\n",
    "print(\"İki tam sayinin toplami:\", toplam)"
   ]
  },
  {
   "cell_type": "code",
   "execution_count": 6,
   "id": "5693919e-9457-4098-9660-152cdb0cb79e",
   "metadata": {},
   "outputs": [
    {
     "name": "stdin",
     "output_type": "stream",
     "text": [
      "Bir tam sayi giriniz:  -7\n"
     ]
    },
    {
     "name": "stdout",
     "output_type": "stream",
     "text": [
      "Girilen sayi negatiftir.\n"
     ]
    }
   ],
   "source": [
    "# Soru 2: Pozitif veya Negatif\n",
    "\n",
    "sayi = int(input(\"Bir tam sayi giriniz: \"))\n",
    "\n",
    "if sayi > 0:\n",
    "    print(\"Girilen sayi pozitiftir.\")\n",
    "elif sayi < 0:\n",
    "    print(\"Girilen sayi negatiftir.\")\n",
    "else:\n",
    "    print(\"Girilen sayi sifirdir.\")"
   ]
  },
  {
   "cell_type": "code",
   "execution_count": 8,
   "id": "b0bfc252-49db-47cd-8c15-c11f2a6b5e72",
   "metadata": {},
   "outputs": [
    {
     "name": "stdin",
     "output_type": "stream",
     "text": [
      "Birinci sayi: 7\n",
      "İkinci sayi:  9\n",
      "Üçüncü sayi:  8\n"
     ]
    },
    {
     "name": "stdout",
     "output_type": "stream",
     "text": [
      "En büyük sayi: 9\n"
     ]
    }
   ],
   "source": [
    "# Soru 3: En büyük sayı \n",
    "\n",
    "sayi1 = int(input(\"Birinci sayi:\"))\n",
    "sayi2 = int(input(\"İkinci sayi: \"))\n",
    "sayi3 = int(input(\"Üçüncü sayi: \"))\n",
    "\n",
    "if sayi1 >= sayi2 and sayi1 >= sayi3:\n",
    "    en_buyuk = sayi1\n",
    "elif sayi2 >= sayi1 and sayi2 >= sayi3:\n",
    "    en_buyuk = sayi2 \n",
    "else:\n",
    "    en_buyuk = sayi3 \n",
    "\n",
    "print(\"En büyük sayi:\", en_buyuk)\n"
   ]
  },
  {
   "cell_type": "code",
   "execution_count": 10,
   "id": "3dc759c1-b22e-40fc-9ac2-86b73ba882ea",
   "metadata": {},
   "outputs": [
    {
     "name": "stdin",
     "output_type": "stream",
     "text": [
      "Bir tamsayi gir: 8\n"
     ]
    },
    {
     "name": "stdout",
     "output_type": "stream",
     "text": [
      "Girilen sayi çifttir.\n"
     ]
    }
   ],
   "source": [
    "# Soru 4: Çift veya Tek\n",
    "\n",
    "sayi = int(input(\"Bir tamsayi gir:\"))\n",
    "\n",
    "if sayi %2 == 0:\n",
    "    print(\"Girilen sayi çifttir.\")\n",
    "else:\n",
    "    print(\"Girilen sayi negatiftir.\")"
   ]
  },
  {
   "cell_type": "code",
   "execution_count": 12,
   "id": "4013033c-4e6d-457f-8a33-dd6082f20998",
   "metadata": {},
   "outputs": [
    {
     "name": "stdin",
     "output_type": "stream",
     "text": [
      "1 ile 7 arasinda bir sayi girin:  4\n"
     ]
    },
    {
     "name": "stdout",
     "output_type": "stream",
     "text": [
      "Perşembe\n"
     ]
    }
   ],
   "source": [
    "# Soru 5: Haftanın Günü\n",
    "gun = int(input(\"1 ile 7 arasinda bir sayi girin: \"))\n",
    "\n",
    "match gun:\n",
    "    case 1:\n",
    "        print(\"Pazartesi\")\n",
    "    case 2:\n",
    "        print(\"Sali\")\n",
    "    case 3:\n",
    "        print(\"Çarşamba\")\n",
    "    case 4:\n",
    "        print(\"Perşembe\")\n",
    "    case 5:\n",
    "        print(\"Cuma\")\n",
    "    case 6:\n",
    "        print(\"Cumartesi\")\n",
    "    case 7:\n",
    "        print(\"Pazar\")\n",
    "    case _:\n",
    "        print(\"Geçersiz gün\")"
   ]
  },
  {
   "cell_type": "code",
   "execution_count": 20,
   "id": "2e25fb41-1732-4ed4-92a2-f0a012deeb69",
   "metadata": {},
   "outputs": [
    {
     "name": "stdin",
     "output_type": "stream",
     "text": [
      "Bir sayi giriniz:  6\n",
      "Bir sayi giriniz:  2\n",
      "Seçin (+, -, *, /):  /\n"
     ]
    },
    {
     "name": "stdout",
     "output_type": "stream",
     "text": [
      "Sonuc:  3.0\n"
     ]
    }
   ],
   "source": [
    "# Soru 6: Basit hesap makinesi\n",
    "\n",
    "sayi1 = int(input(\"Bir sayi giriniz: \"))\n",
    "sayi2 = int(input(\"Bir sayi giriniz: \"))\n",
    "\n",
    "islem = (input(\"Seçin (+, -, *, /): \"))\n",
    "\n",
    "match islem:\n",
    "    case \"+\":\n",
    "        print(\"Sonuc: \", sayi1+sayi2)\n",
    "    case \"-\":\n",
    "        print(\"Sonuc: \", sayi1 - sayi2)\n",
    "    case \"*\":\n",
    "        print(\"Sonuc: \", sayi1 * sayi2)\n",
    "    case \"/\":\n",
    "        if sayi2 != 0:\n",
    "            print(\"Sonuc: \", sayi1 / sayi2)\n",
    "        else:\n",
    "            print(\"Hata: Sayı sifira bolunemez.\")\n",
    "    case _:\n",
    "        print(\"Geçersiz!\")"
   ]
  },
  {
   "cell_type": "code",
   "execution_count": 22,
   "id": "1b43e7ed-024c-49c4-bea0-1f8fcec6b723",
   "metadata": {},
   "outputs": [
    {
     "name": "stdin",
     "output_type": "stream",
     "text": [
      "Bir sayi girin:  5\n"
     ]
    },
    {
     "name": "stdout",
     "output_type": "stream",
     "text": [
      "15\n"
     ]
    }
   ],
   "source": [
    "# Soru 7: 1'den N'e Kadar Toplam\n",
    "\n",
    "N = int(input(\"Bir sayi girin: \"))\n",
    "toplam = 0\n",
    "\n",
    "for i in range(1, N+1):\n",
    "    toplam += i\n",
    "\n",
    "print(toplam) "
   ]
  },
  {
   "cell_type": "code",
   "execution_count": 24,
   "id": "ebb44660-8dc4-4f44-96a1-6a255c16a5ae",
   "metadata": {},
   "outputs": [
    {
     "name": "stdin",
     "output_type": "stream",
     "text": [
      "Bir sayi girin:  6\n"
     ]
    },
    {
     "name": "stdout",
     "output_type": "stream",
     "text": [
      "6 x 1 = 6\n",
      "6 x 2 = 12\n",
      "6 x 3 = 18\n",
      "6 x 4 = 24\n",
      "6 x 5 = 30\n",
      "6 x 6 = 36\n",
      "6 x 7 = 42\n",
      "6 x 8 = 48\n",
      "6 x 9 = 54\n",
      "6 x 10 = 60\n"
     ]
    }
   ],
   "source": [
    "# Soru 8: Çarpım tablosu\n",
    "\n",
    "sayi = int(input(\"Bir sayi girin: \"))\n",
    "\n",
    "for i in range(1, 11):\n",
    "    print(sayi, \"x\", i, \"=\", sayi * i)"
   ]
  },
  {
   "cell_type": "code",
   "execution_count": 28,
   "id": "c450f7fa-c5b1-48c8-88a2-200c82d9af4d",
   "metadata": {},
   "outputs": [
    {
     "name": "stdin",
     "output_type": "stream",
     "text": [
      "1. sayiyi girin:  6\n",
      "2. sayiyi girin:  8\n",
      "3. sayiyi girin:  9\n",
      "4. sayiyi girin:  7\n",
      "5. sayiyi girin:  6\n"
     ]
    },
    {
     "name": "stdout",
     "output_type": "stream",
     "text": [
      "Girilen sayilarin ortalamasi:  7.2\n"
     ]
    }
   ],
   "source": [
    "# Soru 9: Sayıların Ortalaması\n",
    "toplam = 0\n",
    "\n",
    "for i in range(5):\n",
    "    sayi = int(input(f\"{i +1}. sayiyi girin: \"))\n",
    "    toplam += sayi\n",
    "\n",
    "ortalama = toplam /5\n",
    "\n",
    "print(\"Girilen sayilarin ortalamasi: \", ortalama)"
   ]
  },
  {
   "cell_type": "code",
   "execution_count": 30,
   "id": "cd882bae-74ce-4365-83b7-ee2230b9a7d8",
   "metadata": {},
   "outputs": [
    {
     "name": "stdin",
     "output_type": "stream",
     "text": [
      "Bir sayi girin:  18\n"
     ]
    },
    {
     "name": "stdout",
     "output_type": "stream",
     "text": [
      "Asal değil\n"
     ]
    }
   ],
   "source": [
    "# Soru 10: Asal Sayı Kontrolü\n",
    "\n",
    "sayi = int(input(\"Bir sayi girin: \"))\n",
    "\n",
    "if sayi < 2:\n",
    "    print(\"Asal değil\")\n",
    "else:\n",
    "    asal = True\n",
    "    for i in range(2,sayi):\n",
    "        if sayi % i == 0:\n",
    "            asal = False\n",
    "            break\n",
    "\n",
    "if asal:\n",
    "    print(\"Asal\")\n",
    "else:\n",
    "    print(\"Asal değil\")"
   ]
  },
  {
   "cell_type": "code",
   "execution_count": 32,
   "id": "0f65ab72-bd44-4a4e-9508-45eecce0366d",
   "metadata": {},
   "outputs": [
    {
     "name": "stdin",
     "output_type": "stream",
     "text": [
      "Bir sayi girin:  4\n"
     ]
    },
    {
     "name": "stdout",
     "output_type": "stream",
     "text": [
      "Sonuc:  24\n"
     ]
    }
   ],
   "source": [
    "# Soru 11: Faktoriyel Kontrolü\n",
    "\n",
    "sayi = int(input(\"Bir sayi girin: \"))\n",
    "\n",
    "faktoriyel = 1\n",
    "i = sayi\n",
    "\n",
    "while i > 1:\n",
    "    faktoriyel *= i \n",
    "    i = i -1 \n",
    "\n",
    "print(\"Sonuc: \", faktoriyel)"
   ]
  },
  {
   "cell_type": "code",
   "execution_count": 36,
   "id": "22094f61-7147-4577-b35b-83de6ea54c4e",
   "metadata": {},
   "outputs": [
    {
     "name": "stdin",
     "output_type": "stream",
     "text": [
      "1 ile 100 arasında bir sayı tahmin edin:  6\n"
     ]
    },
    {
     "name": "stdout",
     "output_type": "stream",
     "text": [
      "Daha küçük bir sayı girin.\n"
     ]
    },
    {
     "name": "stdin",
     "output_type": "stream",
     "text": [
      "1 ile 100 arasında bir sayı tahmin edin:  3\n"
     ]
    },
    {
     "name": "stdout",
     "output_type": "stream",
     "text": [
      "Tebrikler! Doğru tahmin ettiniz.\n"
     ]
    }
   ],
   "source": [
    "# Soru 12: Sayı Tahmin oyunu\n",
    "\n",
    "import random\n",
    "sayi = random.randint(1, 100)\n",
    "\n",
    "tahmin = 0 \n",
    "while tahmin != sayi:\n",
    "    tahmin = int(input(\"1 ile 100 arasında bir sayı tahmin edin: \"))\n",
    "\n",
    "    if tahmin < sayi:\n",
    "        print(\"Daha büyük bir sayı girin.\")\n",
    "    elif tahmin > sayi:\n",
    "        print(\"Daha küçük bir sayı girin.\")\n",
    "    else:\n",
    "        print(\"Doğru tahmin ettiniz.\")"
   ]
  },
  {
   "cell_type": "code",
   "execution_count": 38,
   "id": "c9b4b874-4d33-44e2-92b6-de3c491d3162",
   "metadata": {},
   "outputs": [
    {
     "name": "stdin",
     "output_type": "stream",
     "text": [
      "Değer alma:  6\n"
     ]
    },
    {
     "name": "stdout",
     "output_type": "stream",
     "text": [
      "0 1 1 2 3 5 "
     ]
    }
   ],
   "source": [
    "# Soru 13: Fibonacci Serisi\n",
    "\n",
    "N = int(input(\"Değer alma: \"))\n",
    "\n",
    "#ilk fibonacci sayisi tanimla\n",
    "a = 0\n",
    "b = 1 \n",
    "\n",
    "for i in range(N):\n",
    "    print(a, end=\" \")\n",
    "    temp = a + b \n",
    "    a = b    #temp değişkeni kullanarak\n",
    "    b = temp #yeni terimi hesaplayıp güncelleme"
   ]
  },
  {
   "cell_type": "code",
   "execution_count": 40,
   "id": "3def5db1-dbd5-4cf7-9ad0-265d31a8373f",
   "metadata": {},
   "outputs": [
    {
     "name": "stdin",
     "output_type": "stream",
     "text": [
      "Bir sayı girin:  1456\n"
     ]
    },
    {
     "name": "stdout",
     "output_type": "stream",
     "text": [
      "Ters çevrilmiş hali: 6541\n"
     ]
    }
   ],
   "source": [
    "# Soru 14: Tersine Çevirme\n",
    "\n",
    "sayi = int(input(\"Bir sayı girin: \"))\n",
    "\n",
    "ters_sayi = 0\n",
    "\n",
    "while sayi > 0:\n",
    "     son_basamak = sayi % 10\n",
    "     ters_sayi = ters_sayi * 10 + son_basamak\n",
    "     sayi = sayi // 10  # Son basamağı at, // ondalıklı kısım demek\n",
    "\n",
    "print(\"Ters çevrilmiş hali:\", ters_sayi)"
   ]
  },
  {
   "cell_type": "code",
   "execution_count": null,
   "id": "e2432a56-a18b-4440-9571-3a8f84c49977",
   "metadata": {},
   "outputs": [],
   "source": [
    "# Soru 15: Armstrong sayı ????"
   ]
  },
  {
   "cell_type": "code",
   "execution_count": 42,
   "id": "d3913766-6b39-4e0f-960e-ac4e900ff4b8",
   "metadata": {},
   "outputs": [
    {
     "name": "stdout",
     "output_type": "stream",
     "text": [
      "1 ile 100 arasindaki çift sayilarin toplami:  2586\n"
     ]
    }
   ],
   "source": [
    "# Soru 16: Çift sayıların toplamı \n",
    "\n",
    "for sayi in range(1,101):\n",
    "    if sayi %2 == 0:\n",
    "        toplam = toplam + sayi\n",
    "\n",
    "print (\"1 ile 100 arasindaki çift sayilarin toplami: \", toplam)"
   ]
  },
  {
   "cell_type": "code",
   "execution_count": 50,
   "id": "4b61f74a-be8b-4ad2-9680-2529002a9569",
   "metadata": {},
   "outputs": [
    {
     "name": "stdout",
     "output_type": "stream",
     "text": [
      "1 ile 10 arasindaki tek sayilarin çarpimi:  945\n"
     ]
    }
   ],
   "source": [
    "# Soru 17: Tek sayıların çarpımı \n",
    "carpim = 1\n",
    "for sayi in range(1,11):\n",
    "    if sayi %2 ==1 :\n",
    "        carpim = carpim * sayi\n",
    "\n",
    "print(\"1 ile 10 arasindaki tek sayilarin çarpimi: \", carpim)"
   ]
  },
  {
   "cell_type": "code",
   "execution_count": 54,
   "id": "c7af0cbb-b468-411a-8813-b11de88e25a8",
   "metadata": {},
   "outputs": [
    {
     "name": "stdout",
     "output_type": "stream",
     "text": [
      "1 karesi:  1\n",
      "2 karesi:  4\n",
      "3 karesi:  9\n",
      "4 karesi:  16\n",
      "5 karesi:  25\n",
      "6 karesi:  36\n",
      "7 karesi:  49\n",
      "8 karesi:  64\n",
      "9 karesi:  81\n",
      "10 karesi:  100\n"
     ]
    }
   ],
   "source": [
    "# Soru 18: Sayıların Karesi \n",
    "\n",
    "for sayi in range(1, 11):\n",
    "    print(sayi, \"karesi: \", sayi * sayi )"
   ]
  },
  {
   "cell_type": "code",
   "execution_count": 56,
   "id": "b56b57e4-af99-4fc4-aa55-1be194113eb0",
   "metadata": {},
   "outputs": [
    {
     "name": "stdin",
     "output_type": "stream",
     "text": [
      "Sifreyi girin:  78\n"
     ]
    },
    {
     "name": "stdout",
     "output_type": "stream",
     "text": [
      "Hatali sifre girdiniz. \n"
     ]
    }
   ],
   "source": [
    "#Soru 19: Basit Şifre Kontrolu\n",
    "\n",
    "sifre = input(\"Sifreyi girin: \")\n",
    "\n",
    "if sifre == \"python123\":\n",
    "    print(\"Giriş başarılı\")\n",
    "else:\n",
    "    print(\"Hatali sifre girdiniz. \")"
   ]
  },
  {
   "cell_type": "code",
   "execution_count": 65,
   "id": "ac63f393-26d6-4b50-8db8-b62cbc63e635",
   "metadata": {},
   "outputs": [
    {
     "name": "stdin",
     "output_type": "stream",
     "text": [
      "Yasinizi girin:  18\n"
     ]
    },
    {
     "name": "stdout",
     "output_type": "stream",
     "text": [
      "Resit\n"
     ]
    }
   ],
   "source": [
    "#Soru 20: Yaş Kontrolü\n",
    "\n",
    "yas = int(input(\"Yasinizi girin: \"))\n",
    "\n",
    "if yas >= 18:\n",
    "    print(\"Resit\")\n",
    "else:\n",
    "    print(\"Resit degil\")"
   ]
  },
  {
   "cell_type": "code",
   "execution_count": 67,
   "id": "4b1ca704-b5a3-49d5-abb2-bfb0b5132a6b",
   "metadata": {},
   "outputs": [
    {
     "name": "stdin",
     "output_type": "stream",
     "text": [
      "1. Ders notu giriniz:  78\n",
      "(2. Ders notunu giriniz:  90\n",
      "3. Ders notunu giriniz:  45\n"
     ]
    },
    {
     "name": "stdout",
     "output_type": "stream",
     "text": [
      "Gecti\n"
     ]
    }
   ],
   "source": [
    "#Soru 21: Not Ortalaması\n",
    "\n",
    "not1 = int(input(\"1. Ders notu giriniz: \"))\n",
    "not2 = int(input(\"(2. Ders notunu giriniz: \"))\n",
    "not3 = int(input(\"3. Ders notunu giriniz: \"))\n",
    "\n",
    "ortalama = (not1 + not2 + not3 ) / 3\n",
    "\n",
    "\n",
    "if ortalama > 50:\n",
    "    print(\"Gecti\")\n",
    "else: \n",
    "    print(\"Kaldi\")"
   ]
  },
  {
   "cell_type": "code",
   "execution_count": 69,
   "id": "96d10cfe-1283-47a0-a78e-d91d483beac0",
   "metadata": {},
   "outputs": [
    {
     "name": "stdin",
     "output_type": "stream",
     "text": [
      "Boyunuzu girin:  1.69\n",
      "Kilonuzu girin:  50\n"
     ]
    },
    {
     "name": "stdout",
     "output_type": "stream",
     "text": [
      "İdeal kilo\n"
     ]
    }
   ],
   "source": [
    "#Soru 22: Vücut Kitle indeksi\n",
    "\n",
    "boy = float(input(\"Boyunuzu girin: \"))\n",
    "kilo = float(input(\"Kilonuzu girin: \"))\n",
    "\n",
    "vki = kilo / (boy * boy)\n",
    "\n",
    "if vki > 25:\n",
    "    print(\"Fazla Kilolu\")\n",
    "else:\n",
    "    print(\"İdeal kilo\")"
   ]
  },
  {
   "cell_type": "code",
   "execution_count": 73,
   "id": "682ab5d1-6ceb-4afc-8df8-3c058bed2d95",
   "metadata": {},
   "outputs": [
    {
     "name": "stdin",
     "output_type": "stream",
     "text": [
      "Birinci sayıyı girin:  46\n",
      "İkinci sayıyı girin:  3\n"
     ]
    },
    {
     "name": "stdout",
     "output_type": "stream",
     "text": [
      "İşlem seç:\n",
      "1. (+)\n",
      "2. (-)\n",
      "3. (*)\n",
      "4. (/)\n"
     ]
    },
    {
     "name": "stdin",
     "output_type": "stream",
     "text": [
      "Seçin (1/2/3/4):  4\n"
     ]
    },
    {
     "name": "stdout",
     "output_type": "stream",
     "text": [
      "Sonuc:  15.333333333333334\n"
     ]
    }
   ],
   "source": [
    "#Soru 23: Dört işlem menüsü\n",
    "\n",
    "sayi1 = float(input(\"Birinci sayıyı girin: \"))\n",
    "sayi2 = float(input(\"İkinci sayıyı girin: \"))\n",
    "\n",
    "print(\"İşlem seç:\")\n",
    "print(\"1. (+)\")\n",
    "print(\"2. (-)\")\n",
    "print(\"3. (*)\")\n",
    "print(\"4. (/)\")\n",
    "\n",
    "secim = input(\"Seçin (1/2/3/4): \")\n",
    "\n",
    "match secim:\n",
    "    case \"1\":\n",
    "        print(\"Sonuc: \", sayi1 + sayi2)\n",
    "    case \"2\":\n",
    "        print(\"Sonuc: \", sayi1 - sayi2)\n",
    "    case \"3\":\n",
    "        print(\"Sonuc:\", sayi1 * sayi2)\n",
    "    case \"4\":\n",
    "        if sayi != 0:\n",
    "            print(\"Sonuc: \", sayi1 / sayi2)\n",
    "        else:\n",
    "            print(\"Bir sayi sifira bolunemez\")\n",
    "    case _:\n",
    "        print(\"Gecersiz secim\")"
   ]
  },
  {
   "cell_type": "code",
   "execution_count": 77,
   "id": "a049d31f-3d3b-4f43-a7f2-221763b6bc39",
   "metadata": {},
   "outputs": [
    {
     "name": "stdin",
     "output_type": "stream",
     "text": [
      "1. Sayiyi giriniz:  5\n",
      "2. Sayiyi giriniz:  6\n",
      "3. Sayiyi giriniz:  7\n",
      "4. Sayiyi giriniz:  8\n"
     ]
    },
    {
     "name": "stdout",
     "output_type": "stream",
     "text": [
      "En kücük sayi: 5\n"
     ]
    }
   ],
   "source": [
    "#Soru 24: Sayıların en küçüğü\n",
    "\n",
    "sayi1 =int(input(\"1. Sayiyi giriniz: \"))\n",
    "sayi2 =int(input(\"2. Sayiyi giriniz: \"))\n",
    "sayi3 =int(input(\"3. Sayiyi giriniz: \"))\n",
    "sayi4 =int(input(\"4. Sayiyi giriniz: \"))\n",
    "\n",
    "en_kucuk = sayi1\n",
    "\n",
    "\n",
    "if sayi2 < en_kucuk:\n",
    "    en_kucuk = sayi2\n",
    "elif sayi3 < en_kucuk:\n",
    "    en_kucuk = sayi3\n",
    "elif sayi4 < en_kucuk:\n",
    "    en_kucuk = sayi4\n",
    "\n",
    "print(\"En kücük sayi:\", en_kucuk)"
   ]
  },
  {
   "cell_type": "code",
   "execution_count": 79,
   "id": "ce37e7d4-2597-43b0-a280-660df0056b49",
   "metadata": {},
   "outputs": [
    {
     "name": "stdin",
     "output_type": "stream",
     "text": [
      "1. Sayiyi giriniz:  4\n",
      "2. Sayiyi giriniz:  3\n",
      "3. Sayiyi giriniz:  5\n"
     ]
    },
    {
     "name": "stdout",
     "output_type": "stream",
     "text": [
      "Sirali:  3 4 5\n"
     ]
    }
   ],
   "source": [
    "#Soru 25: Artan sıralama\n",
    "\n",
    "sayi1 =int(input(\"1. Sayiyi giriniz: \"))\n",
    "sayi2 =int(input(\"2. Sayiyi giriniz: \"))\n",
    "sayi3 =int(input(\"3. Sayiyi giriniz: \"))\n",
    "\n",
    "if sayi1 > sayi2:\n",
    "    sayi1, sayi2 = sayi2, sayi1  # Yer değiştir\n",
    "if sayi1 > sayi3:\n",
    "    sayi1, sayi3 = sayi3, sayi1\n",
    "if sayi2 > sayi3:\n",
    "    sayi2, sayi3 = sayi3, sayi2 \n",
    "\n",
    "print(\"Sirali: \", sayi1, sayi2, sayi3)"
   ]
  },
  {
   "cell_type": "code",
   "execution_count": 81,
   "id": "df2d7ae8-e6d5-4291-a666-9a210477fc9d",
   "metadata": {},
   "outputs": [
    {
     "name": "stdin",
     "output_type": "stream",
     "text": [
      "Bir sayi girin:  8\n"
     ]
    },
    {
     "name": "stdout",
     "output_type": "stream",
     "text": [
      "Sayilarin toplami:  36\n"
     ]
    }
   ],
   "source": [
    "#Soru 26: Sayilarin Toplami (While ile)\n",
    "N = int(input(\"Bir sayi girin: \"))\n",
    "\n",
    "toplam = 0\n",
    "sayi = 1\n",
    "\n",
    "while sayi <= N:\n",
    "    toplam = toplam + sayi\n",
    "    sayi +=1 \n",
    "\n",
    "print(\"Sayilarin toplami: \", toplam)"
   ]
  },
  {
   "cell_type": "code",
   "execution_count": 85,
   "id": "2440c15a-f3cb-475a-80ae-7d979c9e47d5",
   "metadata": {},
   "outputs": [
    {
     "name": "stdout",
     "output_type": "stream",
     "text": [
      "1'den 5e kadar olan sayilarin carpimi:  120\n"
     ]
    }
   ],
   "source": [
    "#Soru 27: Sayıların Çarpımı\n",
    "\n",
    "carpim = 1\n",
    "for sayi in range(1,6):\n",
    "    carpim *= sayi\n",
    "\n",
    "print(\"1'den 5e kadar olan sayilarin carpimi: \", carpim)"
   ]
  },
  {
   "cell_type": "code",
   "execution_count": 93,
   "id": "528bf895-2df8-4236-a538-8b818bfcffa6",
   "metadata": {},
   "outputs": [
    {
     "name": "stdout",
     "output_type": "stream",
     "text": [
      "1'den 10'a kadar sayilarin kareleri toplami:  385\n"
     ]
    }
   ],
   "source": [
    "#Soru 28: Sayilarin karesini toplama\n",
    "toplam = 0\n",
    "\n",
    "for sayi in range(1,11):\n",
    "    toplam += sayi ** 2\n",
    "\n",
    "print(\"1'den 10'a kadar sayilarin kareleri toplami: \", toplam)"
   ]
  },
  {
   "cell_type": "code",
   "execution_count": 95,
   "id": "ef2436d3-a8d5-42c3-9d55-131c82bc8536",
   "metadata": {},
   "outputs": [
    {
     "name": "stdin",
     "output_type": "stream",
     "text": [
      "Bie sayi girin:  7\n"
     ]
    },
    {
     "name": "stdout",
     "output_type": "stream",
     "text": [
      "1'den 7 e kadar olan sayilarin toplami:  784\n"
     ]
    }
   ],
   "source": [
    "#Soru 29: SAyıların küpünü toplama\n",
    "\n",
    "N = int(input(\"Bie sayi girin: \"))\n",
    "\n",
    "toplam = 0\n",
    "\n",
    "for sayi in range(1, N+1):\n",
    "    toplam += sayi ** 3\n",
    "\n",
    "print(\"1'den\", N, \"'e kadar olan sayilarin kupleri toplami: \", toplam)"
   ]
  },
  {
   "cell_type": "code",
   "execution_count": 97,
   "id": "611142e9-c265-4657-982e-76657a2ef9b2",
   "metadata": {},
   "outputs": [
    {
     "name": "stdout",
     "output_type": "stream",
     "text": [
      "1-100 arasi hem 3'e hem 5'e bolunebilen sayi kaç tane?  6\n"
     ]
    }
   ],
   "source": [
    "#Soru 30: Basit Sayı Sarkaci\n",
    "\n",
    "sayac = 0\n",
    "\n",
    "for sayi in range(1,101):\n",
    "    if sayi %3 == 0 and sayi % 5 ==0:\n",
    "        sayac +=1\n",
    "\n",
    "print(\"1-100 arasi hem 3'e hem 5'e bolunebilen sayi kaç tane? \", sayac)"
   ]
  },
  {
   "cell_type": "code",
   "execution_count": 101,
   "id": "e67dbc86-2b85-4255-83e7-cffc6e1495aa",
   "metadata": {},
   "outputs": [
    {
     "name": "stdin",
     "output_type": "stream",
     "text": [
      "0 ile 100 arasi bir sinav notu girin:  74\n"
     ]
    },
    {
     "name": "stdout",
     "output_type": "stream",
     "text": [
      "Harf notunuz: C\n"
     ]
    }
   ],
   "source": [
    "#Soru 31: Not Harfini Belirleme\n",
    "\n",
    "notu = int(input(\"0 ile 100 arasi bir sinav notu girin: \"))\n",
    "\n",
    "if 90 <= notu <= 100:\n",
    "    print(\"Harf notunuz: A\")\n",
    "elif 80 <= notu < 90:\n",
    "    print(\"Harf notunuz: B\")\n",
    "elif 70 <= notu < 80:\n",
    "    print(\"Harf notunuz: C\")\n",
    "elif 60 <= notu < 70:\n",
    "    print(\"Harf notunuz: D\")\n",
    "elif 0 <= notu < 60:\n",
    "    print(\"Harf notunuz: F\")\n",
    "else:\n",
    "    print(\"Gecersiz not girdiniz\")"
   ]
  },
  {
   "cell_type": "code",
   "execution_count": 103,
   "id": "20482b8d-6e59-42e2-ad8a-8013be7528a3",
   "metadata": {},
   "outputs": [
    {
     "name": "stdin",
     "output_type": "stream",
     "text": [
      "Birinci sayıyı girin:  8\n",
      "İkinci sayıyı girin:  79\n",
      "Üçüncü sayıyı girin:  5\n"
     ]
    },
    {
     "name": "stdout",
     "output_type": "stream",
     "text": [
      "Hiçbiri eşit değil\n"
     ]
    }
   ],
   "source": [
    "#Soru 32: Üç sayının karşılaştırılması\n",
    "\n",
    "sayi1 = int(input(\"Birinci sayıyı girin: \"))\n",
    "sayi2 = int(input(\"İkinci sayıyı girin: \"))\n",
    "sayi3 = int(input(\"Üçüncü sayıyı girin: \"))\n",
    "\n",
    "if sayi1 == sayi2 == sayi3:\n",
    "    print(\"Tüm sayılar eşit\")\n",
    "elif sayi1 == sayi2 or sayi1 == sayi3 or sayi2 == sayi3:\n",
    "    print(\"İki sayı eşit\")\n",
    "else:\n",
    "    print(\"Hiçbiri eşit değil\") "
   ]
  },
  {
   "cell_type": "code",
   "execution_count": 105,
   "id": "b62243b8-fab8-46a4-91f2-85575550fdcf",
   "metadata": {},
   "outputs": [
    {
     "name": "stdin",
     "output_type": "stream",
     "text": [
      "Bir yıl girin:  2024\n"
     ]
    },
    {
     "name": "stdout",
     "output_type": "stream",
     "text": [
      "2024 bir artık yıldır.\n"
     ]
    }
   ],
   "source": [
    "#Soru 33: Artık yıl kontrolü\n",
    "\n",
    "yil = int(input(\"Bir yıl girin: \"))\n",
    "\n",
    "if yil % 400 == 0:\n",
    "    print(yil, \"bir artık yıldır.\")\n",
    "elif yil % 100 == 0:\n",
    "    print(yil, \"bir artık yıl değildir.\")\n",
    "elif yil % 4 == 0:\n",
    "    print(yil, \"bir artık yıldır.\")\n",
    "else:\n",
    "    print(yil, \"bir artık yıl değildir.\")"
   ]
  },
  {
   "cell_type": "code",
   "execution_count": 107,
   "id": "4c180657-c849-4c36-a3d2-b6a3a34b5c94",
   "metadata": {},
   "outputs": [
    {
     "name": "stdin",
     "output_type": "stream",
     "text": [
      "Boyunuzu girin(örn. 1.65:  1.69\n",
      "Kilonuzu kg cinsinden yazin:  50\n"
     ]
    },
    {
     "name": "stdout",
     "output_type": "stream",
     "text": [
      "Zayıf\n"
     ]
    }
   ],
   "source": [
    "# Soru 34: BMI kategorisi\n",
    "\n",
    "boy = float(input(\"Boyunuzu girin(örn. 1.65: \"))\n",
    "kilo = float(input(\"Kilonuzu kg cinsinden yazin: \"))\n",
    "\n",
    "bmi = kilo / (boy ** 2)\n",
    "\n",
    "if bmi < 18.5:\n",
    "    print(\"Zayıf\")\n",
    "elif 18.5 <= 25:\n",
    "    print(\"Normal Kilo\")\n",
    "elif 25 <= bmi < 30:\n",
    "    print(\"Fazla Kilolu\")\n",
    "else: \n",
    "    print(\"Obez\")"
   ]
  },
  {
   "cell_type": "code",
   "execution_count": 111,
   "id": "81327ed1-477b-47ce-9654-e8f1dd98f3dc",
   "metadata": {},
   "outputs": [
    {
     "name": "stdin",
     "output_type": "stream",
     "text": [
      "Birinci kenarı girin:  6\n",
      "İkinci kenarı girin:  6\n",
      "Üçüncü kenarı girin:  10\n"
     ]
    },
    {
     "name": "stdout",
     "output_type": "stream",
     "text": [
      "İkizkenar üçgen\n"
     ]
    }
   ],
   "source": [
    "#Soru 35: Üçgen Türü belirleme\n",
    "\n",
    "kenar1 = int(input(\"Birinci kenarı girin: \"))\n",
    "kenar2 = int(input(\"İkinci kenarı girin: \"))\n",
    "kenar3 = int(input(\"Üçüncü kenarı girin: \"))\n",
    "\n",
    "if(kenar1 + kenar2 > kenar3) and (kenar1 + kenar3 > kenar2) and (kenar2 + kenar3 > kenar1):\n",
    "    \n",
    "    if kenar2 == kenar1 == kenar3:\n",
    "        print(\"Eşkenar Üçgen\")\n",
    "    elif kenar1 == kenar2 or kenar1 == kenar3 or kenar2 == kenar3:\n",
    "        print(\"İkizkenar üçgen\")\n",
    "    else:\n",
    "        print(\"Çeşitkenar üçgen\")"
   ]
  },
  {
   "cell_type": "code",
   "execution_count": 113,
   "id": "e101fb02-170f-4182-adae-9de6f33ac881",
   "metadata": {},
   "outputs": [
    {
     "name": "stdin",
     "output_type": "stream",
     "text": [
      "Yas giriniz:  18\n"
     ]
    },
    {
     "name": "stdout",
     "output_type": "stream",
     "text": [
      "Ücretiniz 10TL\n"
     ]
    }
   ],
   "source": [
    "# Soru 36: Yaş ve Bşlet fiyatı\n",
    "\n",
    "yas = int(input(\"Yas giriniz: \"))\n",
    "\n",
    "if yas >= 0 and yas <= 5:\n",
    "    print(\"Ücretsiz\")\n",
    "elif yas >= 6 and yas <= 18:\n",
    "    print(\"Ücretiniz 10TL\")\n",
    "elif yas >= 19 and yas <= 64:\n",
    "    print(\"Ücretiniz 20TL\")\n",
    "elif yas >= 65:\n",
    "    print(\"Ücretiniz 65 TL\")\n",
    "else:\n",
    "    print(\"Geçersiz yaş\")"
   ]
  },
  {
   "cell_type": "code",
   "execution_count": 115,
   "id": "80257e1b-dd7c-4857-b188-deb8196b25ff",
   "metadata": {},
   "outputs": [
    {
     "name": "stdin",
     "output_type": "stream",
     "text": [
      "Hava durumunu girin (gunesli, yagmurlu, karli) yagmurlu\n",
      "Sıcakligi girin (C):  24\n"
     ]
    },
    {
     "name": "stdout",
     "output_type": "stream",
     "text": [
      "Evde kalabilirsiniz.\n"
     ]
    }
   ],
   "source": [
    "#Soru 37: Hava durumu önerisi\n",
    "\n",
    "hava_durumu = input(\"Hava durumunu girin (gunesli, yagmurlu, karli)\")\n",
    "sicaklik = int(input(\"Sıcakligi girin (C): \"))\n",
    "\n",
    "if hava_durumu == \"güneşli\" and sicaklik >= 25:\n",
    "    print(\"Piknik yapabilirsiniz.\")\n",
    "elif hava_durumu == \"Yağmurlu\":\n",
    "    print(\"Şemsiye almayı unutmayın\")\n",
    "elif hava_durumu == \"karlı \" and sicaklik < 0:\n",
    "    print(\"Kayak yapmaya gidebilirsiniz.\")\n",
    "else:\n",
    "    print(\"Evde kalabilirsiniz.\")"
   ]
  },
  {
   "cell_type": "code",
   "execution_count": 117,
   "id": "271ec067-3d99-49d0-b27a-8f4fc1e62c1b",
   "metadata": {},
   "outputs": [
    {
     "name": "stdin",
     "output_type": "stream",
     "text": [
      "Bir tam sayı girin:  -9\n"
     ]
    },
    {
     "name": "stdout",
     "output_type": "stream",
     "text": [
      "Negatif\n"
     ]
    }
   ],
   "source": [
    "#Soru 38:  Sayının Pozitif Negatif veya Sıfır Olup Olmadığını Kontrol Etme\n",
    "\n",
    "sayi = int(input(\"Bir tam sayı girin: \"))\n",
    "\n",
    "if sayi > 0:\n",
    "    print(\"Pozitif\")\n",
    "elif sayi < 0:\n",
    "    print(\"Negatif\")\n",
    "else:\n",
    "    print(\"Sıfır\")"
   ]
  },
  {
   "cell_type": "code",
   "execution_count": 119,
   "id": "ab4573a4-d967-4793-bcc5-d2b965f3874b",
   "metadata": {},
   "outputs": [
    {
     "name": "stdin",
     "output_type": "stream",
     "text": [
      "Birinci sayiyi girin:  7\n",
      "İkinci sayiyi  girin:  4\n"
     ]
    },
    {
     "name": "stdout",
     "output_type": "stream",
     "text": [
      "Birinci sayı büyük\n"
     ]
    }
   ],
   "source": [
    "#Soru 39:  İki Sayının Karşılaştırılması\n",
    "\n",
    "sayi1 = int(input(\"Birinci sayiyi girin: \"))\n",
    "sayi2 = int(input(\"İkinci sayiyi  girin: \"))\n",
    "\n",
    "if sayi1 > sayi2:\n",
    "    print(\"Birinci sayı büyük\")\n",
    "elif sayi2 > sayi1:\n",
    "    print(\"İkinci sayi buyuk\")\n",
    "else:\n",
    "    print(\"Sayilar eşit\")"
   ]
  },
  {
   "cell_type": "code",
   "execution_count": 125,
   "id": "3ea40ff7-9014-4d11-b781-39b56bc3ca0d",
   "metadata": {},
   "outputs": [
    {
     "name": "stdin",
     "output_type": "stream",
     "text": [
      "Tutarı giriniz:  60\n",
      "Üyelik durumunu girin(üye/non-üye):  üye\n"
     ]
    },
    {
     "name": "stdout",
     "output_type": "stream",
     "text": [
      "Son hal:  54.0\n"
     ]
    }
   ],
   "source": [
    "#Soru 40: Üyelik durumu ve indirim\n",
    "\n",
    "alisveris_tutari = float(input(\"Tutarı giriniz: \"))\n",
    "uyelik_durumu = input(\"Üyelik durumunu girin(üye/non-üye): \")\n",
    "\n",
    "if uyelik_durumu == \"üye\":\n",
    "    indirim_orani = 0.10 \n",
    "elif uyelik_durumu == \"non-üye\":\n",
    "    indirim_orani = 0.05 \n",
    "\n",
    "indirim_tutari = alisveris_tutari * indirim_orani\n",
    "indirimli_hali = alisveris_tutari - indirim_tutari\n",
    "\n",
    "print(\"Son hal: \", indirimli_hali)"
   ]
  },
  {
   "cell_type": "code",
   "execution_count": null,
   "id": "b37dc82d-2184-4e16-8acd-12e575bd614c",
   "metadata": {},
   "outputs": [],
   "source": []
  }
 ],
 "metadata": {
  "kernelspec": {
   "display_name": "Python [conda env:base] *",
   "language": "python",
   "name": "conda-base-py"
  },
  "language_info": {
   "codemirror_mode": {
    "name": "ipython",
    "version": 3
   },
   "file_extension": ".py",
   "mimetype": "text/x-python",
   "name": "python",
   "nbconvert_exporter": "python",
   "pygments_lexer": "ipython3",
   "version": "3.12.7"
  }
 },
 "nbformat": 4,
 "nbformat_minor": 5
}
